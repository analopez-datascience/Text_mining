{
 "cells": [
  {
   "cell_type": "markdown",
   "id": "907c78a2",
   "metadata": {},
   "source": [
    "# Sprint 9 - Tasca M9 T01\n",
    "\n",
    "- **Exercici 1:**\n",
    "Agafa un text en anglès que vulguis, i calcula'n la freqüència de les paraules.\n",
    "\n",
    "\n",
    "- **Exercici 2:**\n",
    "Treu les stopwords i realitza stemming al teu conjunt de dades.\n",
    "\n",
    "\n",
    "- **Exercici 3:**\n",
    "Realitza sentiment analysis al teu conjunt de dades."
   ]
  },
  {
   "cell_type": "markdown",
   "id": "6d32e593",
   "metadata": {},
   "source": [
    "Instalamos la librería NLTK con la que realizaremos la tarea, siguiendo las indicaciones disponibles [aquí](https://www.nltk.org/data.html)."
   ]
  },
  {
   "cell_type": "code",
   "execution_count": 1,
   "id": "07eea84d",
   "metadata": {},
   "outputs": [],
   "source": [
    "import matplotlib.pyplot as plt\n",
    "import numpy as np\n",
    "import pandas as pd\n",
    "import seaborn as sns\n",
    "\n",
    "import nltk\n",
    "from nltk.tokenize import word_tokenize\n",
    "from nltk.tokenize import sent_tokenize\n",
    "from nltk.probability import FreqDist\n",
    "\n",
    "from nltk.corpus import stopwords\n",
    "from nltk.stem import PorterStemmer\n",
    "\n",
    "from nltk.sentiment.vader import SentimentIntensityAnalyzer\n"
   ]
  },
  {
   "cell_type": "markdown",
   "id": "35716235",
   "metadata": {},
   "source": [
    "## Exercici 1: \n",
    "\n",
    "Le pedimos a chat GPT que escriba una carta para mi hermana, sobre su respuesta aplicamos los siguientes procesos:\n",
    "\n",
    "* **Tokenizamos:**  Es el proceso mendiante el cual vamos a sub-dividir la cadena de texto en unidades lingüísticas mínimas, es decir divir en palabras.\n",
    "* **Frecuencia:** Haremos un recuento de las veces que aparece cada palabra en nuestro texto. "
   ]
  },
  {
   "cell_type": "markdown",
   "id": "b47298f6",
   "metadata": {},
   "source": [
    "Dear María,\n",
    "\n",
    "I hope this letter finds you in good health and high spirits. I just wanted to take a moment to express how grateful I am to have a sister like you. You have always been there for me, supporting me through thick and thin. I will never forget the memories we have shared together, from the silly moments to the ones that brought us to tears.\n",
    "\n",
    "I know life can get busy and we don't always have the chance to talk as much as we would like, but I want you to know that I am always here for you. No matter the distance, you will always be in my thoughts and in my heart.\n",
    "\n",
    "I am excited to hear about all the amazing things you are doing and I can't wait to see you soon. Until then, I hope this letter brings a smile to your face and reminds you how much you are loved.\n",
    "\n",
    "With love and admiration,\n",
    "\n",
    "Ana"
   ]
  },
  {
   "cell_type": "code",
   "execution_count": 2,
   "id": "60f3a638",
   "metadata": {},
   "outputs": [],
   "source": [
    "texto = \"\"\"Dear María,\n",
    "\n",
    "I hope this letter finds you in good health and high spirits. I just wanted to take a moment to express how grateful I am to have a sister like you. You have always been there for me, supporting me through thick and thin. I will never forget the memories we have shared together, from the silly moments to the ones that brought us to tears.\n",
    "\n",
    "I know life can get busy and we don't always have the chance to talk as much as we would like, but I want you to know that I am always here for you. No matter the distance, you will always be in my thoughts and in my heart.\n",
    "\n",
    "I am excited to hear about all the amazing things you are doing and I can't wait to see you soon. Until then, I hope this letter brings a smile to your face and reminds you how much you are loved.\n",
    "\n",
    "With love and admiration,\n",
    "\n",
    "Ana\"\"\""
   ]
  },
  {
   "cell_type": "code",
   "execution_count": 3,
   "id": "8cded2f6",
   "metadata": {},
   "outputs": [
    {
     "name": "stdout",
     "output_type": "stream",
     "text": [
      "['Dear María,\\n\\nI hope this letter finds you in good health and high spirits.', 'I just wanted to take a moment to express how grateful I am to have a sister like you.', 'You have always been there for me, supporting me through thick and thin.', 'I will never forget the memories we have shared together, from the silly moments to the ones that brought us to tears.', \"I know life can get busy and we don't always have the chance to talk as much as we would like, but I want you to know that I am always here for you.\", 'No matter the distance, you will always be in my thoughts and in my heart.', \"I am excited to hear about all the amazing things you are doing and I can't wait to see you soon.\", 'Until then, I hope this letter brings a smile to your face and reminds you how much you are loved.', 'With love and admiration,\\n\\nAna']\n"
     ]
    }
   ],
   "source": [
    "tokenized_texto = sent_tokenize(texto)\n",
    "print(tokenized_texto)"
   ]
  },
  {
   "cell_type": "code",
   "execution_count": 4,
   "id": "0717198a",
   "metadata": {},
   "outputs": [
    {
     "name": "stdout",
     "output_type": "stream",
     "text": [
      "['Dear', 'María', ',', 'I', 'hope', 'this', 'letter', 'finds', 'you', 'in', 'good', 'health', 'and', 'high', 'spirits', '.', 'I', 'just', 'wanted', 'to', 'take', 'a', 'moment', 'to', 'express', 'how', 'grateful', 'I', 'am', 'to', 'have', 'a', 'sister', 'like', 'you', '.', 'You', 'have', 'always', 'been', 'there', 'for', 'me', ',', 'supporting', 'me', 'through', 'thick', 'and', 'thin', '.', 'I', 'will', 'never', 'forget', 'the', 'memories', 'we', 'have', 'shared', 'together', ',', 'from', 'the', 'silly', 'moments', 'to', 'the', 'ones', 'that', 'brought', 'us', 'to', 'tears', '.', 'I', 'know', 'life', 'can', 'get', 'busy', 'and', 'we', 'do', \"n't\", 'always', 'have', 'the', 'chance', 'to', 'talk', 'as', 'much', 'as', 'we', 'would', 'like', ',', 'but', 'I', 'want', 'you', 'to', 'know', 'that', 'I', 'am', 'always', 'here', 'for', 'you', '.', 'No', 'matter', 'the', 'distance', ',', 'you', 'will', 'always', 'be', 'in', 'my', 'thoughts', 'and', 'in', 'my', 'heart', '.', 'I', 'am', 'excited', 'to', 'hear', 'about', 'all', 'the', 'amazing', 'things', 'you', 'are', 'doing', 'and', 'I', 'ca', \"n't\", 'wait', 'to', 'see', 'you', 'soon', '.', 'Until', 'then', ',', 'I', 'hope', 'this', 'letter', 'brings', 'a', 'smile', 'to', 'your', 'face', 'and', 'reminds', 'you', 'how', 'much', 'you', 'are', 'loved', '.', 'With', 'love', 'and', 'admiration', ',', 'Ana']\n"
     ]
    }
   ],
   "source": [
    "tokenized_word = word_tokenize(texto)\n",
    "print(tokenized_word)"
   ]
  },
  {
   "cell_type": "code",
   "execution_count": 5,
   "id": "51c53a77",
   "metadata": {},
   "outputs": [
    {
     "name": "stdout",
     "output_type": "stream",
     "text": [
      "<FreqDist with 101 samples and 180 outcomes>\n"
     ]
    }
   ],
   "source": [
    "freqdist = FreqDist(tokenized_word)\n",
    "print(freqdist)"
   ]
  },
  {
   "cell_type": "code",
   "execution_count": 6,
   "id": "2e2282a6",
   "metadata": {},
   "outputs": [
    {
     "data": {
      "text/plain": [
       "[('I', 10),\n",
       " ('to', 10),\n",
       " ('you', 9),\n",
       " ('.', 8),\n",
       " (',', 7),\n",
       " ('and', 7),\n",
       " ('the', 6),\n",
       " ('have', 4),\n",
       " ('always', 4),\n",
       " ('in', 3),\n",
       " ('a', 3),\n",
       " ('am', 3),\n",
       " ('we', 3),\n",
       " ('hope', 2),\n",
       " ('this', 2)]"
      ]
     },
     "execution_count": 6,
     "metadata": {},
     "output_type": "execute_result"
    }
   ],
   "source": [
    "freqdist.most_common(15)"
   ]
  },
  {
   "cell_type": "code",
   "execution_count": 7,
   "id": "079d34e6",
   "metadata": {},
   "outputs": [
    {
     "data": {
      "image/png": "[encoded data removed]",
      "text/plain": [
       "<Figure size 432x288 with 1 Axes>"
      ]
     },
     "metadata": {
      "needs_background": "light"
     },
     "output_type": "display_data"
    }
   ],
   "source": [
    "freqdist.plot(15, cumulative=False)\n",
    "plt.show()"
   ]
  },
  {
   "cell_type": "markdown",
   "id": "f72cb998",
   "metadata": {},
   "source": [
    "## Exercici 2:\n",
    "\n",
    "Treu les stopwords i realitza stemming al teu conjunt de dades. Los procesos que vamos a aplicar en este paso son los siguientes.\n",
    "\n",
    "\n",
    "* **Stopwords:** Son aquellas palabras carentes de significancia, que únicamente van a generar ruido en nuestro texto.\n",
    "\n",
    "* **Stemming:** La lematización, en castellano, va a ser el proceso mediante el cual vamos llevar a las palabras a su raiz. "
   ]
  },
  {
   "cell_type": "code",
   "execution_count": 8,
   "id": "28802149",
   "metadata": {},
   "outputs": [
    {
     "name": "stdout",
     "output_type": "stream",
     "text": [
      "Stopwords de la librería:  {'yours', 'll', 'am', 'hasn', 'did', 'our', 'their', 'themselves', 'for', 'theirs', 'under', 'or', 'just', 'of', 'won', \"haven't\", 'more', 'same', 'few', 'whom', 'ours', 'are', 'before', 'it', 'itself', 'the', 'who', \"you've\", 'his', 'why', 've', 'weren', 'until', 'aren', 'is', 'be', 'once', 'hers', 'had', 'isn', 'which', 'a', 'he', 'then', 'own', 'each', 'those', 'them', 'most', \"you'll\", 'y', 'him', 'they', \"didn't\", 'don', \"hadn't\", 'while', 'how', \"wasn't\", \"weren't\", 'out', 'these', 'she', 'shouldn', \"you'd\", 'its', 'by', 'can', 'couldn', \"mightn't\", 'do', 'if', 'doesn', 'my', \"needn't\", 'were', \"won't\", 'after', 'about', 'wasn', 'yourself', 'we', 'in', 'what', \"that'll\", 'myself', 'and', 'above', \"couldn't\", \"it's\", 'ma', 'both', 'haven', 'off', 'now', \"mustn't\", 'below', 'from', 'only', 'all', \"shouldn't\", 'so', 'being', 'wouldn', 'down', 'yourselves', 'other', 'shan', \"shan't\", 'o', 'very', 'to', 'didn', \"don't\", 'needn', 'when', 'because', 'an', 'there', 's', 'during', 'again', \"aren't\", 'doing', 'you', 'ain', 'mustn', 'with', 'me', 'too', 'been', 'her', 'against', 'through', 'no', 'himself', \"you're\", \"should've\", 'but', 'such', 'up', 'd', 're', 'has', 'on', 'this', 't', 'should', \"doesn't\", 'some', 'as', 'any', 'ourselves', 'hadn', 'your', \"isn't\", 'having', 'i', 'into', 'have', 'further', 'between', 'not', 'over', \"she's\", 'at', 'here', 'herself', 'was', 'does', 'mightn', 'where', 'will', 'than', 'nor', 'm', \"wouldn't\", 'that', \"hasn't\"}\n"
     ]
    }
   ],
   "source": [
    "sw = set(stopwords.words(\"english\"))\n",
    "print(\"Stopwords de la librería: \" ,sw)"
   ]
  },
  {
   "cell_type": "code",
   "execution_count": 9,
   "id": "ea0fed49",
   "metadata": {},
   "outputs": [
    {
     "name": "stdout",
     "output_type": "stream",
     "text": [
      "Texto sin stopwords ['Dear', 'María', ',', 'I', 'hope', 'letter', 'finds', 'good', 'health', 'high', 'spirits', '.', 'I', 'wanted', 'take', 'moment', 'express', 'grateful', 'I', 'sister', 'like', '.', 'You', 'always', ',', 'supporting', 'thick', 'thin', '.', 'I', 'never', 'forget', 'memories', 'shared', 'together', ',', 'silly', 'moments', 'ones', 'brought', 'us', 'tears', '.', 'I', 'know', 'life', 'get', 'busy', \"n't\", 'always', 'chance', 'talk', 'much', 'would', 'like', ',', 'I', 'want', 'know', 'I', 'always', '.', 'No', 'matter', 'distance', ',', 'always', 'thoughts', 'heart', '.', 'I', 'excited', 'hear', 'amazing', 'things', 'I', 'ca', \"n't\", 'wait', 'see', 'soon', '.', 'Until', ',', 'I', 'hope', 'letter', 'brings', 'smile', 'face', 'reminds', 'much', 'loved', '.', 'With', 'love', 'admiration', ',', 'Ana']\n"
     ]
    }
   ],
   "source": [
    "sw_texto=[]\n",
    "for i in tokenized_word:\n",
    "    if i not in sw:\n",
    "        sw_texto.append(i)\n",
    "print(\"Texto sin stopwords\" ,sw_texto)"
   ]
  },
  {
   "cell_type": "code",
   "execution_count": 10,
   "id": "93c224c9",
   "metadata": {},
   "outputs": [
    {
     "name": "stdout",
     "output_type": "stream",
     "text": [
      "Texto lematizado:  ['dear', 'maría', ',', 'i', 'hope', 'letter', 'find', 'good', 'health', 'high', 'spirit', '.', 'i', 'want', 'take', 'moment', 'express', 'grate', 'i', 'sister', 'like', '.', 'you', 'alway', ',', 'support', 'thick', 'thin', '.', 'i', 'never', 'forget', 'memori', 'share', 'togeth', ',', 'silli', 'moment', 'one', 'brought', 'us', 'tear', '.', 'i', 'know', 'life', 'get', 'busi', \"n't\", 'alway', 'chanc', 'talk', 'much', 'would', 'like', ',', 'i', 'want', 'know', 'i', 'alway', '.', 'no', 'matter', 'distanc', ',', 'alway', 'thought', 'heart', '.', 'i', 'excit', 'hear', 'amaz', 'thing', 'i', 'ca', \"n't\", 'wait', 'see', 'soon', '.', 'until', ',', 'i', 'hope', 'letter', 'bring', 'smile', 'face', 'remind', 'much', 'love', '.', 'with', 'love', 'admir', ',', 'ana']\n"
     ]
    }
   ],
   "source": [
    "ps = PorterStemmer()\n",
    "\n",
    "stemmed_words = []\n",
    "for i in sw_texto:\n",
    "    stemmed_words.append(ps.stem(i))\n",
    "\n",
    "print(\"Texto lematizado: \" ,stemmed_words)"
   ]
  },
  {
   "cell_type": "markdown",
   "id": "0cc3b351",
   "metadata": {},
   "source": [
    "Observamos que mediante el proceso de lematización, los verbos los pone en infinitivo y de otras palabras se queda sólo con la raiz. "
   ]
  },
  {
   "cell_type": "markdown",
   "id": "38da7d0b",
   "metadata": {},
   "source": [
    "## Exercici 3:\n",
    "\n",
    "Realitza sentiment analysis al teu conjunt de dades.\n",
    "\n",
    "[Link](https://towardsdatascience.com/sentimental-analysis-using-vader-a3415fef7664)"
   ]
  },
  {
   "cell_type": "code",
   "execution_count": 11,
   "id": "b1557cf5",
   "metadata": {},
   "outputs": [
    {
     "data": {
      "text/plain": [
       "{'neg': 0.023, 'neu': 0.692, 'pos': 0.285, 'compound': 0.992}"
      ]
     },
     "execution_count": 11,
     "metadata": {},
     "output_type": "execute_result"
    }
   ],
   "source": [
    "analisis = SentimentIntensityAnalyzer()\n",
    "analisis.polarity_scores(texto)"
   ]
  },
  {
   "cell_type": "markdown",
   "id": "8d5712e1",
   "metadata": {},
   "source": [
    "En nuestro texto predomina el componente neutro con más de un 60%, seguido de un sentimiento positivo que supera el 20%, siendo el componente negativo el menos representativo. Destacable también que el \"compuesto\" suba al 99%. \n",
    "\n",
    "Procedemos a pedir a chat GPT que redacte una carta para mostrar el enfado a la misma persona por una situación concreta para observar si el número de sentimiento negativo aumenta. "
   ]
  },
  {
   "cell_type": "code",
   "execution_count": 12,
   "id": "5938c776",
   "metadata": {},
   "outputs": [],
   "source": [
    "texto_dos =\"\"\"Dear María,\n",
    "\n",
    "I hope this letter finds you well. I am writing to express my feelings about a recent situation that has left me feeling angry and frustrated. I believe it is important that we talk about this and work towards a resolution.\n",
    "\n",
    "I am upset because the accident. This behavior is unacceptable and hurtful, and it goes against the trust and respect that we should have for each other as siblings.\n",
    "\n",
    "I understand that we all make mistakes, and I am not perfect either. However, I need to make it clear that this behavior is not acceptable and I expect better from you. I value our relationship as siblings and I want us to be able to resolve this issue and move forward.\n",
    "\n",
    "Please take some time to reflect on your actions and consider the impact they have on others. I am open to having a conversation with you about this and finding a solution that works for both of us.\n",
    "\n",
    "I love you and I hope that we can work through this together.\n",
    "\n",
    "Sincerely,\n",
    "Ana.\"\"\""
   ]
  },
  {
   "cell_type": "code",
   "execution_count": 13,
   "id": "a5314008",
   "metadata": {},
   "outputs": [
    {
     "data": {
      "text/plain": [
       "{'neg': 0.129, 'neu': 0.656, 'pos': 0.215, 'compound': 0.9279}"
      ]
     },
     "execution_count": 13,
     "metadata": {},
     "output_type": "execute_result"
    }
   ],
   "source": [
    "analisis.polarity_scores(texto_dos)"
   ]
  },
  {
   "cell_type": "markdown",
   "id": "2b11ea86",
   "metadata": {},
   "source": [
    "Efectivamente comprobamos que varia el porcentaje asignado a cada tipo de sentimiento.\n",
    "\n",
    "Por último análizamos un extracto del discurso \"I have a dream\" de Martin Luther King de 1963, con el fin de ver la \"polaridad\" del mismo, si se trata de una arenga positiva por ejemplo, o si al ser un texto escrito a mano cambia en el número de compuestos. "
   ]
  },
  {
   "cell_type": "code",
   "execution_count": 14,
   "id": "a69546b9",
   "metadata": {},
   "outputs": [],
   "source": [
    "texto_discurso = \"\"\"I am happy to join with you today in what will go down in history as the greatest demonstration for freedom in the history of our nation.\n",
    "\n",
    "Five score years ago, a great American, in whose symbolic shadow we stand today, signed the Emancipation Proclamation. This momentous decree came as a great beacon light of hope to millions of Negro slaves who had been seared in the flames of withering injustice. It came as a joyous daybreak to end the long night of their captivity.\n",
    "\n",
    "But one hundred years later, the Negro still is not free. One hundred years later, the life of the Negro is still sadly crippled by the manacles of segregation and the chains of discrimination. One hundred years later, the Negro lives on a lonely island of poverty in the midst of a vast ocean of material prosperity. One hundred years later, the Negro is still languished in the corners of American society and finds himself an exile in his own land. And so we've come here today to dramatize a shameful condition.\n",
    "\n",
    "In a sense we've come to our nation's capital to cash a check. When the architects of our republic wrote the magnificent words of the Constitution and the Declaration of Independence, they were signing a promissory note to which every American was to fall heir. This note was a promise that all men, yes, black men as well as white men, would be guaranteed the \"unalienable Rights\" of \"Life, Liberty and the pursuit of Happiness.\" It is obvious today that America has defaulted on this promissory note, insofar as her citizens of color are concerned. Instead of honoring this sacred obligation, America has given the Negro people a bad check, a check which has come back marked \"insufficient funds.\"\n",
    "\n",
    "But we refuse to believe that the bank of justice is bankrupt. We refuse to believe that there are insufficient funds in the great vaults of opportunity of this nation. And so, we've come to cash this check, a check that will give us upon demand the riches of freedom and the security of justice.\n",
    "\n",
    "We have also come to this hallowed spot to remind America of the fierce urgency of Now. This is no time to engage in the luxury of cooling off or to take the tranquilizing drug of gradualism. Now is the time to make real the promises of democracy. Now is the time to rise from the dark and desolate valley of segregation to the sunlit path of racial justice. Now is the time to lift our nation from the quicksands of racial injustice to the solid rock of brotherhood. Now is the time to make justice a reality for all of God's children.\n",
    "\n",
    "It would be fatal for the nation to overlook the urgency of the moment. This sweltering summer of the Negro's legitimate discontent will not pass until there is an invigorating autumn of freedom and equality. Nineteen sixty-three is not an end, but a beginning. And those who hope that the Negro needed to blow off steam and will now be content will have a rude awakening if the nation returns to business as usual. And there will be neither rest nor tranquility in America until the Negro is granted his citizenship rights. The whirlwinds of revolt will continue to shake the foundations of our nation until the bright day of justice emerges.\n",
    "\n",
    "But there is something that I must say to my people, who stand on the warm threshold which leads into the palace of justice: In the process of gaining our rightful place, we must not be guilty of wrongful deeds. Let us not seek to satisfy our thirst for freedom by drinking from the cup of bitterness and hatred. We must forever conduct our struggle on the high plane of dignity and discipline. We must not allow our creative protest to degenerate into physical violence. Again and again, we must rise to the majestic heights of meeting physical force with soul force.\n",
    "\n",
    "The marvelous new militancy which has engulfed the Negro community must not lead us to a distrust of all white people, for many of our white brothers, as evidenced by their presence here today, have come to realize that their destiny is tied up with our destiny. And they have come to realize that their freedom is inextricably bound to our freedom.\n",
    "\n",
    "We cannot walk alone.\n",
    "\n",
    "And as we walk, we must make the pledge that we shall always march ahead.\n",
    "\n",
    "We cannot turn back.\"\"\""
   ]
  },
  {
   "cell_type": "code",
   "execution_count": 15,
   "id": "8f7b2244",
   "metadata": {},
   "outputs": [
    {
     "data": {
      "text/plain": [
       "{'neg': 0.099, 'neu': 0.719, 'pos': 0.182, 'compound': 0.9976}"
      ]
     },
     "execution_count": 15,
     "metadata": {},
     "output_type": "execute_result"
    }
   ],
   "source": [
    "analisis.polarity_scores(texto_discurso)"
   ]
  },
  {
   "cell_type": "markdown",
   "id": "6cd791e3",
   "metadata": {},
   "source": [
    "Aunque es una aproximación parcial, totalmente subjetiva y para nada en profundidad, si podemos observar a priori el componente positivo de este análisis."
   ]
  }
 ],
 "metadata": {
  "kernelspec": {
   "display_name": "Python 3 (ipykernel)",
   "language": "python",
   "name": "python3"
  },
  "language_info": {
   "codemirror_mode": {
    "name": "ipython",
    "version": 3
   },
   "file_extension": ".py",
   "mimetype": "text/x-python",
   "name": "python",
   "nbconvert_exporter": "python",
   "pygments_lexer": "ipython3",
   "version": "3.9.12"
  }
 },
 "nbformat": 4,
 "nbformat_minor": 5
}
